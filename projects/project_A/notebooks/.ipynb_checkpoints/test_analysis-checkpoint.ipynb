{
 "cells": [
  {
   "cell_type": "code",
   "execution_count": 1,
   "id": "69e893fc-4517-480d-a3fa-c08959d3d72e",
   "metadata": {},
   "outputs": [
    {
     "ename": "",
     "evalue": "",
     "output_type": "error",
     "traceback": [
      "\u001b[1;31mリモート Jupyter Server 'http://localhost:8888/' に接続できませんでした。サーバーが実行されていて、到達可能であることを確認してください。('_xsrf' argument missing from POST)。"
     ]
    }
   ],
   "source": [
    "import pandas as pd\n",
    "import numpy as np\n",
    "import matplotlib.pyplot as plt\n",
    "\n",
    "# サンプルデータフレームの作成\n",
    "data = {'Category': ['A', 'B', 'C', 'D', 'E'],\n",
    "        'Value': np.random.randint(1, 100, 5)}\n",
    "df = pd.DataFrame(data)\n",
    "\n",
    "print(\"サンプルデータフレーム:\")\n",
    "print(df)\n",
    "\n",
    "# データの可視化 (棒グラフ)\n",
    "plt.figure(figsize=(8, 5))\n",
    "plt.bar(df['Category'], df['Value'], color=['skyblue', 'lightgreen', 'salmon', 'gold', 'lightcoral'])\n",
    "plt.title('Sample Bar Chart')\n",
    "plt.xlabel('Category')\n",
    "plt.ylabel('Value')\n",
    "plt.grid(axis='y', linestyle='--')\n",
    "plt.show()\n",
    "\n",
    "print(\"\\nサンプル分析が完了しました。グラフが表示されていることを確認してください。\") \n"
   ]
  },
  {
   "cell_type": "code",
   "execution_count": 3,
   "id": "a05dd1fb",
   "metadata": {},
   "outputs": [
    {
     "name": "stdout",
     "output_type": "stream",
     "text": [
      "\n",
      "aaaサンプル分析が完了しました。グラフが表示されていることを確認してください。\n"
     ]
    }
   ],
   "source": [
    "print(\"\\nサンプル分析が完了しました。グラフが表示されていることを確認してください。\") "
   ]
  },
  {
   "cell_type": "code",
   "execution_count": null,
   "id": "f460fd5e",
   "metadata": {},
   "outputs": [],
   "source": []
  }
 ],
 "metadata": {
  "kernelspec": {
   "display_name": "Python 3 (ipykernel)",
   "language": "python",
   "name": "python3"
  }
 },
 "nbformat": 4,
 "nbformat_minor": 5
}
